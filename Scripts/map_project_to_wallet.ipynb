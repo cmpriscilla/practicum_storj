{
 "cells": [
  {
   "cell_type": "code",
   "execution_count": 3,
   "metadata": {
    "scrolled": true
   },
   "outputs": [],
   "source": [
    "import pandas as pd, numpy as np\n",
    "behavior = pd.read_csv('project_prob.csv')\n",
    "operatorProbs = pd.read_csv('LSCPoutputFinal.csv')"
   ]
  },
  {
   "cell_type": "code",
   "execution_count": 4,
   "metadata": {},
   "outputs": [
    {
     "data": {
      "text/plain": [
       "Index(['project_id', 'cheatingprob_dlpattern', 'cheatingprob_dlcancellation',\n",
       "       'cheatingprob_ulcancellation', 'cheatingprob'],\n",
       "      dtype='object')"
      ]
     },
     "execution_count": 4,
     "metadata": {},
     "output_type": "execute_result"
    }
   ],
   "source": [
    "behavior.columns"
   ]
  },
  {
   "cell_type": "code",
   "execution_count": 5,
   "metadata": {},
   "outputs": [],
   "source": [
    "users = pd.read_pickle('userData.pkl')\n",
    "operators = pd.read_pickle('operatorDataTx.pkl')"
   ]
  },
  {
   "cell_type": "code",
   "execution_count": 6,
   "metadata": {},
   "outputs": [
    {
     "data": {
      "text/html": [
       "<div>\n",
       "<style scoped>\n",
       "    .dataframe tbody tr th:only-of-type {\n",
       "        vertical-align: middle;\n",
       "    }\n",
       "\n",
       "    .dataframe tbody tr th {\n",
       "        vertical-align: top;\n",
       "    }\n",
       "\n",
       "    .dataframe thead th {\n",
       "        text-align: right;\n",
       "    }\n",
       "</style>\n",
       "<table border=\"1\" class=\"dataframe\">\n",
       "  <thead>\n",
       "    <tr style=\"text-align: right;\">\n",
       "      <th></th>\n",
       "      <th>email</th>\n",
       "      <th>wallet</th>\n",
       "    </tr>\n",
       "  </thead>\n",
       "  <tbody>\n",
       "    <tr>\n",
       "      <th>0</th>\n",
       "      <td>76ef56b4ee699b7f2dbb99ac6a57bfb3a3ad93708fce99...</td>\n",
       "      <td>0x000000000c7c9cbb8485c5e38c6c0da6a1017c1f</td>\n",
       "    </tr>\n",
       "    <tr>\n",
       "      <th>1</th>\n",
       "      <td>89552b294746d6acdd6b3a2b995a8821345ee4619262a5...</td>\n",
       "      <td>0x000000043dc3052d771845a71efc05b67f40abb4</td>\n",
       "    </tr>\n",
       "    <tr>\n",
       "      <th>2</th>\n",
       "      <td>56f91963066bd109a009280b3b57dff4adb3f764f1e5ac...</td>\n",
       "      <td>0x00083c3ae5730507fa39a90220df704c09cf124d</td>\n",
       "    </tr>\n",
       "    <tr>\n",
       "      <th>3</th>\n",
       "      <td>e12652e32d55cd3f70d07914957a6e6472a1f3a1524e4f...</td>\n",
       "      <td>0x000e4b8d275cbe6af5c01a73bab484282317d8bb</td>\n",
       "    </tr>\n",
       "    <tr>\n",
       "      <th>4</th>\n",
       "      <td>06c35c443545d93e6b325906e6a970d34b9d08694cae7c...</td>\n",
       "      <td>0x00101a0e98ecea02681a5447c3cab0c787d109f6</td>\n",
       "    </tr>\n",
       "    <tr>\n",
       "      <th>...</th>\n",
       "      <td>...</td>\n",
       "      <td>...</td>\n",
       "    </tr>\n",
       "    <tr>\n",
       "      <th>8447</th>\n",
       "      <td>72cf5949e16ea70391bb42221bd9d46b521be1f9f3709e...</td>\n",
       "      <td>0xffbfc143924950bbd4ac6b6b4879001b6252dc40</td>\n",
       "    </tr>\n",
       "    <tr>\n",
       "      <th>8448</th>\n",
       "      <td>20095b1502f03f9137242589a39faefb520e5c3cfe37f0...</td>\n",
       "      <td>0xffbfc143924950bbd4ac6b6b4879001b6252dc40</td>\n",
       "    </tr>\n",
       "    <tr>\n",
       "      <th>8449</th>\n",
       "      <td>1d33422710ad68667d8e87e3ad3d7f76b72c63c609bf10...</td>\n",
       "      <td>0xffcfa143fbbc303790b6e5458cc3e3b570cf5343</td>\n",
       "    </tr>\n",
       "    <tr>\n",
       "      <th>8450</th>\n",
       "      <td>010adf9f55ed568491f64ba50e6b696732d72714ae316e...</td>\n",
       "      <td>0xffe336267854a7133a99a26910564439e5d57610</td>\n",
       "    </tr>\n",
       "    <tr>\n",
       "      <th>8451</th>\n",
       "      <td>40801a0aa50660a3f0ab798d09b6ee254b56868869f354...</td>\n",
       "      <td>0xfffe8248dda5122382af8180d5b8408dca73b9d1</td>\n",
       "    </tr>\n",
       "  </tbody>\n",
       "</table>\n",
       "<p>8452 rows × 2 columns</p>\n",
       "</div>"
      ],
      "text/plain": [
       "                                                  email  \\\n",
       "0     76ef56b4ee699b7f2dbb99ac6a57bfb3a3ad93708fce99...   \n",
       "1     89552b294746d6acdd6b3a2b995a8821345ee4619262a5...   \n",
       "2     56f91963066bd109a009280b3b57dff4adb3f764f1e5ac...   \n",
       "3     e12652e32d55cd3f70d07914957a6e6472a1f3a1524e4f...   \n",
       "4     06c35c443545d93e6b325906e6a970d34b9d08694cae7c...   \n",
       "...                                                 ...   \n",
       "8447  72cf5949e16ea70391bb42221bd9d46b521be1f9f3709e...   \n",
       "8448  20095b1502f03f9137242589a39faefb520e5c3cfe37f0...   \n",
       "8449  1d33422710ad68667d8e87e3ad3d7f76b72c63c609bf10...   \n",
       "8450  010adf9f55ed568491f64ba50e6b696732d72714ae316e...   \n",
       "8451  40801a0aa50660a3f0ab798d09b6ee254b56868869f354...   \n",
       "\n",
       "                                          wallet  \n",
       "0     0x000000000c7c9cbb8485c5e38c6c0da6a1017c1f  \n",
       "1     0x000000043dc3052d771845a71efc05b67f40abb4  \n",
       "2     0x00083c3ae5730507fa39a90220df704c09cf124d  \n",
       "3     0x000e4b8d275cbe6af5c01a73bab484282317d8bb  \n",
       "4     0x00101a0e98ecea02681a5447c3cab0c787d109f6  \n",
       "...                                          ...  \n",
       "8447  0xffbfc143924950bbd4ac6b6b4879001b6252dc40  \n",
       "8448  0xffbfc143924950bbd4ac6b6b4879001b6252dc40  \n",
       "8449  0xffcfa143fbbc303790b6e5458cc3e3b570cf5343  \n",
       "8450  0xffe336267854a7133a99a26910564439e5d57610  \n",
       "8451  0xfffe8248dda5122382af8180d5b8408dca73b9d1  \n",
       "\n",
       "[8452 rows x 2 columns]"
      ]
     },
     "execution_count": 6,
     "metadata": {},
     "output_type": "execute_result"
    }
   ],
   "source": [
    "#create an email--> wallet converter\n",
    "operators = operators.reset_index(drop=True)\n",
    "emails = []\n",
    "wallets = []\n",
    "for i in range(len(operators)):\n",
    "    for x in operators.loc[i,'fullEmailList']:\n",
    "        emails.append(x)\n",
    "        wallets.append(operators.loc[i,'wallet'])\n",
    "        \n",
    "adict = {'email':emails,'wallet':wallets}\n",
    "emailWalletConverter = pd.DataFrame(adict)\n",
    "emailWalletConverter"
   ]
  },
  {
   "cell_type": "code",
   "execution_count": 7,
   "metadata": {},
   "outputs": [],
   "source": [
    "projects = pd.read_csv('allProjects.csv')"
   ]
  },
  {
   "cell_type": "code",
   "execution_count": 8,
   "metadata": {},
   "outputs": [],
   "source": [
    "allUsers = pd.read_csv('allUsers.csv')"
   ]
  },
  {
   "cell_type": "code",
   "execution_count": 9,
   "metadata": {},
   "outputs": [],
   "source": [
    "#step 1: connect project to email_hash\n",
    "projToEmail = allUsers[['id','email_hash']].merge(projects, right_on='user_id',left_on='id',how='right')"
   ]
  },
  {
   "cell_type": "code",
   "execution_count": 13,
   "metadata": {},
   "outputs": [],
   "source": [
    "projToEmail=projToEmail[['project_id','user_id','email_hash']].merge(behavior, on='project_id',how='left')"
   ]
  },
  {
   "cell_type": "code",
   "execution_count": 18,
   "metadata": {},
   "outputs": [],
   "source": [
    "userCheatingProb = projToEmail.groupby('user_id').agg({'cheatingprob':'max'}).reset_index()"
   ]
  },
  {
   "cell_type": "code",
   "execution_count": 20,
   "metadata": {},
   "outputs": [],
   "source": [
    "userCheatingProb.rename(columns={'cheatingprob':'maxUserCheatingProb'}, inplace=True)"
   ]
  },
  {
   "cell_type": "code",
   "execution_count": 21,
   "metadata": {},
   "outputs": [],
   "source": [
    "userCheatingProb = userCheatingProb.merge(projToEmail[['user_id','email_hash']],on='user_id',how='left')"
   ]
  },
  {
   "cell_type": "code",
   "execution_count": 121,
   "metadata": {},
   "outputs": [
    {
     "data": {
      "text/plain": [
       "Index(['user_id', 'maxUserCheatingProb', 'email_hash'], dtype='object')"
      ]
     },
     "execution_count": 121,
     "metadata": {},
     "output_type": "execute_result"
    }
   ],
   "source": [
    "userCheatingProb.columns"
   ]
  },
  {
   "cell_type": "code",
   "execution_count": 23,
   "metadata": {},
   "outputs": [],
   "source": [
    "operatorProbs = operatorProbs.merge(emailWalletConverter, on='wallet',how='left')"
   ]
  },
  {
   "cell_type": "code",
   "execution_count": 25,
   "metadata": {},
   "outputs": [
    {
     "data": {
      "text/plain": [
       "Index(['Unnamed: 0', 'wallet', 'LSCP_score', 'avgMonthPay', 'prob', 'email'], dtype='object')"
      ]
     },
     "execution_count": 25,
     "metadata": {},
     "output_type": "execute_result"
    }
   ],
   "source": [
    "operatorProbs.columns"
   ]
  },
  {
   "cell_type": "code",
   "execution_count": 26,
   "metadata": {},
   "outputs": [],
   "source": [
    "fullView = operatorProbs.merge(userCheatingProb, left_on='email',right_on='email_hash', how='inner')"
   ]
  },
  {
   "cell_type": "code",
   "execution_count": 28,
   "metadata": {},
   "outputs": [],
   "source": [
    "fullView = fullView[['wallet', 'user_id','maxUserCheatingProb', 'prob','avgMonthPay']]"
   ]
  },
  {
   "cell_type": "code",
   "execution_count": 33,
   "metadata": {},
   "outputs": [
    {
     "data": {
      "text/plain": [
       "655"
      ]
     },
     "execution_count": 33,
     "metadata": {},
     "output_type": "execute_result"
    }
   ],
   "source": [
    "#We have 655 operator accounts that also have user accounts\n",
    "len(fullView.wallet.unique())"
   ]
  },
  {
   "cell_type": "code",
   "execution_count": 73,
   "metadata": {},
   "outputs": [
    {
     "data": {
      "text/plain": [
       "694"
      ]
     },
     "execution_count": 73,
     "metadata": {},
     "output_type": "execute_result"
    }
   ],
   "source": [
    "#We have 694 user accounts that also have operator accounts (some some users have multiple operator accounts)\n",
    "len(fullView.user_id.unique())"
   ]
  },
  {
   "cell_type": "code",
   "execution_count": 78,
   "metadata": {},
   "outputs": [],
   "source": [
    "numOperatorAccts = fullView.groupby('user_id').agg({'wallet':'nunique','maxUserCheatingProb':'max'}).reset_index()"
   ]
  },
  {
   "cell_type": "code",
   "execution_count": 83,
   "metadata": {},
   "outputs": [],
   "source": [
    "numOperatorAccts.rename(columns={'wallet':'numOperatorWallets'},inplace=True)"
   ]
  },
  {
   "cell_type": "code",
   "execution_count": 159,
   "metadata": {},
   "outputs": [
    {
     "data": {
      "text/plain": [
       "1    656\n",
       "2     34\n",
       "3      4\n",
       "Name: numOperatorWallets, dtype: int64"
      ]
     },
     "execution_count": 159,
     "metadata": {},
     "output_type": "execute_result"
    }
   ],
   "source": [
    "#We see that some users have multiple operator accounts\n",
    "numOperatorAccts.numOperatorWallets.value_counts()"
   ]
  },
  {
   "cell_type": "code",
   "execution_count": 84,
   "metadata": {},
   "outputs": [],
   "source": [
    "numUserAccts = fullView.groupby('wallet').agg({'user_id':'nunique','maxUserCheatingProb':'max'})\n",
    "numUserAccts.rename(columns={'user_id':'numUserAccts'},inplace=True)"
   ]
  },
  {
   "cell_type": "code",
   "execution_count": 86,
   "metadata": {},
   "outputs": [
    {
     "data": {
      "text/plain": [
       "1     602\n",
       "2      38\n",
       "3      10\n",
       "4       4\n",
       "12      1\n",
       "Name: numUserAccts, dtype: int64"
      ]
     },
     "execution_count": 86,
     "metadata": {},
     "output_type": "execute_result"
    }
   ],
   "source": [
    "numUserAccts.numUserAccts.value_counts()"
   ]
  },
  {
   "cell_type": "code",
   "execution_count": 92,
   "metadata": {},
   "outputs": [
    {
     "data": {
      "text/plain": [
       "655"
      ]
     },
     "execution_count": 92,
     "metadata": {},
     "output_type": "execute_result"
    }
   ],
   "source": [
    "len(numUserAccts)"
   ]
  },
  {
   "cell_type": "code",
   "execution_count": 134,
   "metadata": {},
   "outputs": [],
   "source": [
    "#finalView = fullView.merge(numUserAccts, on=['wallet','maxUserCheatingProb'], how='inner').drop_duplicates()\n",
    "finalView = fullView.merge(numOperatorAccts, on=['user_id','maxUserCheatingProb'], how='inner').drop_duplicates().dropna()"
   ]
  },
  {
   "cell_type": "code",
   "execution_count": 135,
   "metadata": {},
   "outputs": [
    {
     "data": {
      "text/plain": [
       "wallet                 0\n",
       "user_id                0\n",
       "maxUserCheatingProb    0\n",
       "prob                   0\n",
       "avgMonthPay            0\n",
       "numOperatorWallets     0\n",
       "dtype: int64"
      ]
     },
     "execution_count": 135,
     "metadata": {},
     "output_type": "execute_result"
    }
   ],
   "source": [
    "finalView.isnull().sum()"
   ]
  },
  {
   "cell_type": "code",
   "execution_count": 136,
   "metadata": {},
   "outputs": [
    {
     "data": {
      "text/plain": [
       "322"
      ]
     },
     "execution_count": 136,
     "metadata": {},
     "output_type": "execute_result"
    }
   ],
   "source": [
    "len(finalView)"
   ]
  },
  {
   "cell_type": "code",
   "execution_count": 137,
   "metadata": {},
   "outputs": [
    {
     "name": "stdout",
     "output_type": "stream",
     "text": [
      "292 302\n"
     ]
    }
   ],
   "source": [
    "print(len(finalView.wallet.unique()),len(finalView.user_id.unique()))"
   ]
  },
  {
   "cell_type": "code",
   "execution_count": 142,
   "metadata": {},
   "outputs": [],
   "source": [
    "pd.set_option('display.max_rows',400)\n",
    "finalView = finalView.rename(columns={'prob':'operatorCheatingProb'})"
   ]
  },
  {
   "cell_type": "code",
   "execution_count": 143,
   "metadata": {},
   "outputs": [
    {
     "data": {
      "text/plain": [
       "Index(['wallet', 'user_id', 'maxUserCheatingProb', 'operatorCheatingProb',\n",
       "       'avgMonthPay', 'numOperatorWallets'],\n",
       "      dtype='object')"
      ]
     },
     "execution_count": 143,
     "metadata": {},
     "output_type": "execute_result"
    }
   ],
   "source": [
    "finalView.columns"
   ]
  },
  {
   "cell_type": "markdown",
   "metadata": {},
   "source": [
    "**Here we have a list of all operator/user combinations with >.8 probability of cheating in each category**"
   ]
  },
  {
   "cell_type": "code",
   "execution_count": 150,
   "metadata": {},
   "outputs": [
    {
     "data": {
      "text/html": [
       "<div>\n",
       "<style scoped>\n",
       "    .dataframe tbody tr th:only-of-type {\n",
       "        vertical-align: middle;\n",
       "    }\n",
       "\n",
       "    .dataframe tbody tr th {\n",
       "        vertical-align: top;\n",
       "    }\n",
       "\n",
       "    .dataframe thead th {\n",
       "        text-align: right;\n",
       "    }\n",
       "</style>\n",
       "<table border=\"1\" class=\"dataframe\">\n",
       "  <thead>\n",
       "    <tr style=\"text-align: right;\">\n",
       "      <th></th>\n",
       "      <th>wallet</th>\n",
       "      <th>user_id</th>\n",
       "      <th>maxUserCheatingProb</th>\n",
       "      <th>operatorCheatingProb</th>\n",
       "      <th>avgMonthPay</th>\n",
       "      <th>numOperatorWallets</th>\n",
       "    </tr>\n",
       "  </thead>\n",
       "  <tbody>\n",
       "    <tr>\n",
       "      <th>9</th>\n",
       "      <td>0x003dd7051bd7b10beb092df05258b5b847b0c8fc</td>\n",
       "      <td>87fe37e0b4354f0c89881508b6cbd4fd</td>\n",
       "      <td>0.864061</td>\n",
       "      <td>0.882376</td>\n",
       "      <td>5.337503</td>\n",
       "      <td>3</td>\n",
       "    </tr>\n",
       "    <tr>\n",
       "      <th>10</th>\n",
       "      <td>0x5789caf7b28d0e0869769c0e66388cb44747d47c</td>\n",
       "      <td>87fe37e0b4354f0c89881508b6cbd4fd</td>\n",
       "      <td>0.864061</td>\n",
       "      <td>0.974773</td>\n",
       "      <td>36.242408</td>\n",
       "      <td>3</td>\n",
       "    </tr>\n",
       "    <tr>\n",
       "      <th>60</th>\n",
       "      <td>0x11d484fab9c282d3854e1f85b8af62d7b686d795</td>\n",
       "      <td>c5ec32efcb734547ab233fd570bd8424</td>\n",
       "      <td>0.878435</td>\n",
       "      <td>0.897540</td>\n",
       "      <td>24.969701</td>\n",
       "      <td>1</td>\n",
       "    </tr>\n",
       "    <tr>\n",
       "      <th>381</th>\n",
       "      <td>0x6b21925ae3cc58c0abfc31792bf35dd42f0bb81d</td>\n",
       "      <td>aaa0bd2db2914b349504a20bc80b81bd</td>\n",
       "      <td>0.825816</td>\n",
       "      <td>0.927595</td>\n",
       "      <td>0.526446</td>\n",
       "      <td>2</td>\n",
       "    </tr>\n",
       "    <tr>\n",
       "      <th>382</th>\n",
       "      <td>0xfafc9af3c0353d95244a53a3fc80e22295bec8a0</td>\n",
       "      <td>aaa0bd2db2914b349504a20bc80b81bd</td>\n",
       "      <td>0.825816</td>\n",
       "      <td>0.970166</td>\n",
       "      <td>4.238282</td>\n",
       "      <td>2</td>\n",
       "    </tr>\n",
       "    <tr>\n",
       "      <th>390</th>\n",
       "      <td>0x6be35233115075a56bcb95cceda284b5bc3aeafe</td>\n",
       "      <td>4ba1ca9401d34adfb12bd36706df49b8</td>\n",
       "      <td>0.931086</td>\n",
       "      <td>0.845043</td>\n",
       "      <td>2.940931</td>\n",
       "      <td>1</td>\n",
       "    </tr>\n",
       "    <tr>\n",
       "      <th>456</th>\n",
       "      <td>0x7a582bcf950a30c0ca783b99026be55a6ad6efb6</td>\n",
       "      <td>62e1ed08dcad43dfb99a356ce7d6ceb2</td>\n",
       "      <td>0.962544</td>\n",
       "      <td>0.865999</td>\n",
       "      <td>19.641417</td>\n",
       "      <td>1</td>\n",
       "    </tr>\n",
       "  </tbody>\n",
       "</table>\n",
       "</div>"
      ],
      "text/plain": [
       "                                         wallet  \\\n",
       "9    0x003dd7051bd7b10beb092df05258b5b847b0c8fc   \n",
       "10   0x5789caf7b28d0e0869769c0e66388cb44747d47c   \n",
       "60   0x11d484fab9c282d3854e1f85b8af62d7b686d795   \n",
       "381  0x6b21925ae3cc58c0abfc31792bf35dd42f0bb81d   \n",
       "382  0xfafc9af3c0353d95244a53a3fc80e22295bec8a0   \n",
       "390  0x6be35233115075a56bcb95cceda284b5bc3aeafe   \n",
       "456  0x7a582bcf950a30c0ca783b99026be55a6ad6efb6   \n",
       "\n",
       "                              user_id  maxUserCheatingProb  \\\n",
       "9    87fe37e0b4354f0c89881508b6cbd4fd             0.864061   \n",
       "10   87fe37e0b4354f0c89881508b6cbd4fd             0.864061   \n",
       "60   c5ec32efcb734547ab233fd570bd8424             0.878435   \n",
       "381  aaa0bd2db2914b349504a20bc80b81bd             0.825816   \n",
       "382  aaa0bd2db2914b349504a20bc80b81bd             0.825816   \n",
       "390  4ba1ca9401d34adfb12bd36706df49b8             0.931086   \n",
       "456  62e1ed08dcad43dfb99a356ce7d6ceb2             0.962544   \n",
       "\n",
       "     operatorCheatingProb  avgMonthPay  numOperatorWallets  \n",
       "9                0.882376     5.337503                   3  \n",
       "10               0.974773    36.242408                   3  \n",
       "60               0.897540    24.969701                   1  \n",
       "381              0.927595     0.526446                   2  \n",
       "382              0.970166     4.238282                   2  \n",
       "390              0.845043     2.940931                   1  \n",
       "456              0.865999    19.641417                   1  "
      ]
     },
     "execution_count": 150,
     "metadata": {},
     "output_type": "execute_result"
    }
   ],
   "source": [
    "finalView[(finalView.maxUserCheatingProb>.8)&(finalView.operatorCheatingProb>.8)]"
   ]
  },
  {
   "cell_type": "code",
   "execution_count": 151,
   "metadata": {},
   "outputs": [],
   "source": [
    "finalView.to_csv('user_operator_view.csv')"
   ]
  },
  {
   "cell_type": "code",
   "execution_count": 167,
   "metadata": {},
   "outputs": [],
   "source": [
    "otherFactors = finalView[(finalView.maxUserCheatingProb>.8)&(finalView.operatorCheatingProb>.8)].merge(operators[['wallet','unique_nodes','numAssocEmails']],on='wallet',how='left')"
   ]
  },
  {
   "cell_type": "code",
   "execution_count": 168,
   "metadata": {},
   "outputs": [
    {
     "data": {
      "text/html": [
       "<div>\n",
       "<style scoped>\n",
       "    .dataframe tbody tr th:only-of-type {\n",
       "        vertical-align: middle;\n",
       "    }\n",
       "\n",
       "    .dataframe tbody tr th {\n",
       "        vertical-align: top;\n",
       "    }\n",
       "\n",
       "    .dataframe thead th {\n",
       "        text-align: right;\n",
       "    }\n",
       "</style>\n",
       "<table border=\"1\" class=\"dataframe\">\n",
       "  <thead>\n",
       "    <tr style=\"text-align: right;\">\n",
       "      <th></th>\n",
       "      <th>wallet</th>\n",
       "      <th>user_id</th>\n",
       "      <th>numAssocEmails</th>\n",
       "    </tr>\n",
       "  </thead>\n",
       "  <tbody>\n",
       "    <tr>\n",
       "      <th>0</th>\n",
       "      <td>0x003dd7051bd7b10beb092df05258b5b847b0c8fc</td>\n",
       "      <td>87fe37e0b4354f0c89881508b6cbd4fd</td>\n",
       "      <td>1.0</td>\n",
       "    </tr>\n",
       "    <tr>\n",
       "      <th>1</th>\n",
       "      <td>0x5789caf7b28d0e0869769c0e66388cb44747d47c</td>\n",
       "      <td>87fe37e0b4354f0c89881508b6cbd4fd</td>\n",
       "      <td>1.0</td>\n",
       "    </tr>\n",
       "    <tr>\n",
       "      <th>2</th>\n",
       "      <td>0x11d484fab9c282d3854e1f85b8af62d7b686d795</td>\n",
       "      <td>c5ec32efcb734547ab233fd570bd8424</td>\n",
       "      <td>8.0</td>\n",
       "    </tr>\n",
       "    <tr>\n",
       "      <th>3</th>\n",
       "      <td>0x6b21925ae3cc58c0abfc31792bf35dd42f0bb81d</td>\n",
       "      <td>aaa0bd2db2914b349504a20bc80b81bd</td>\n",
       "      <td>1.0</td>\n",
       "    </tr>\n",
       "    <tr>\n",
       "      <th>4</th>\n",
       "      <td>0xfafc9af3c0353d95244a53a3fc80e22295bec8a0</td>\n",
       "      <td>aaa0bd2db2914b349504a20bc80b81bd</td>\n",
       "      <td>1.0</td>\n",
       "    </tr>\n",
       "    <tr>\n",
       "      <th>5</th>\n",
       "      <td>0x6be35233115075a56bcb95cceda284b5bc3aeafe</td>\n",
       "      <td>4ba1ca9401d34adfb12bd36706df49b8</td>\n",
       "      <td>3.0</td>\n",
       "    </tr>\n",
       "    <tr>\n",
       "      <th>6</th>\n",
       "      <td>0x7a582bcf950a30c0ca783b99026be55a6ad6efb6</td>\n",
       "      <td>62e1ed08dcad43dfb99a356ce7d6ceb2</td>\n",
       "      <td>4.0</td>\n",
       "    </tr>\n",
       "  </tbody>\n",
       "</table>\n",
       "</div>"
      ],
      "text/plain": [
       "                                       wallet  \\\n",
       "0  0x003dd7051bd7b10beb092df05258b5b847b0c8fc   \n",
       "1  0x5789caf7b28d0e0869769c0e66388cb44747d47c   \n",
       "2  0x11d484fab9c282d3854e1f85b8af62d7b686d795   \n",
       "3  0x6b21925ae3cc58c0abfc31792bf35dd42f0bb81d   \n",
       "4  0xfafc9af3c0353d95244a53a3fc80e22295bec8a0   \n",
       "5  0x6be35233115075a56bcb95cceda284b5bc3aeafe   \n",
       "6  0x7a582bcf950a30c0ca783b99026be55a6ad6efb6   \n",
       "\n",
       "                            user_id  numAssocEmails  \n",
       "0  87fe37e0b4354f0c89881508b6cbd4fd             1.0  \n",
       "1  87fe37e0b4354f0c89881508b6cbd4fd             1.0  \n",
       "2  c5ec32efcb734547ab233fd570bd8424             8.0  \n",
       "3  aaa0bd2db2914b349504a20bc80b81bd             1.0  \n",
       "4  aaa0bd2db2914b349504a20bc80b81bd             1.0  \n",
       "5  4ba1ca9401d34adfb12bd36706df49b8             3.0  \n",
       "6  62e1ed08dcad43dfb99a356ce7d6ceb2             4.0  "
      ]
     },
     "execution_count": 168,
     "metadata": {},
     "output_type": "execute_result"
    }
   ],
   "source": [
    "otherFactors[['wallet','user_id','numAssocEmails']]"
   ]
  },
  {
   "cell_type": "code",
   "execution_count": 161,
   "metadata": {},
   "outputs": [
    {
     "data": {
      "text/plain": [
       "Index(['wallet', 'unique_nodes', 'minAuditReputation', 'avgAuditReputation',\n",
       "       'maxAuditReputation', 'minFreeDisk', 'avgFreeDisk', 'maxFreeDisk',\n",
       "       'minPieceCount', 'avgPieceCount', 'maxPieceCount',\n",
       "       'earliestNodeCreated', 'mostRecentNodeCreated', 'fullWalletList',\n",
       "       'fullEmailList', 'numAssocWallets', 'numAssocEmails', '2020-02-01',\n",
       "       '2020-03-01', '2020-04-01', '2020-05-01', '2020-06-01', '2020-07-01',\n",
       "       '2020-08-01', '2020-09-01', '2020-10-01', '2020-11-01', '2020-12-01',\n",
       "       '2021-01-01', '2021-02-01', '2021-03-01', '2021-04-01', 'type',\n",
       "       'sixMonthPay', 'avgMonthPay', 'numOutbound', 'uniqueOutbound',\n",
       "       'tokenTypes', 'numInbound', 'uniqueInbound', 'associatesTo',\n",
       "       'associatesFrom', 'associates', 'numAssoc'],\n",
       "      dtype='object')"
      ]
     },
     "execution_count": 161,
     "metadata": {},
     "output_type": "execute_result"
    }
   ],
   "source": [
    "operators.columns"
   ]
  },
  {
   "cell_type": "markdown",
   "metadata": {},
   "source": [
    "# Stop here"
   ]
  },
  {
   "cell_type": "code",
   "execution_count": null,
   "metadata": {},
   "outputs": [],
   "source": []
  },
  {
   "cell_type": "markdown",
   "metadata": {},
   "source": [
    "**The following pulls in the 65 candidates surfaced by operator clustering and checks them against the above**"
   ]
  },
  {
   "cell_type": "code",
   "execution_count": 170,
   "metadata": {},
   "outputs": [],
   "source": [
    "#Read in data on the 65 candidates\n",
    "cand65 = pd.read_pickle('candidateDF2.pkl')"
   ]
  },
  {
   "cell_type": "code",
   "execution_count": 171,
   "metadata": {},
   "outputs": [
    {
     "data": {
      "text/html": [
       "<div>\n",
       "<style scoped>\n",
       "    .dataframe tbody tr th:only-of-type {\n",
       "        vertical-align: middle;\n",
       "    }\n",
       "\n",
       "    .dataframe tbody tr th {\n",
       "        vertical-align: top;\n",
       "    }\n",
       "\n",
       "    .dataframe thead th {\n",
       "        text-align: right;\n",
       "    }\n",
       "</style>\n",
       "<table border=\"1\" class=\"dataframe\">\n",
       "  <thead>\n",
       "    <tr style=\"text-align: right;\">\n",
       "      <th></th>\n",
       "      <th>wallet</th>\n",
       "      <th>user_id</th>\n",
       "      <th>maxUserCheatingProb</th>\n",
       "      <th>operatorCheatingProb</th>\n",
       "      <th>avgMonthPay_x</th>\n",
       "      <th>numOperatorWallets</th>\n",
       "      <th>unique_nodes</th>\n",
       "      <th>minAuditReputation</th>\n",
       "      <th>avgAuditReputation</th>\n",
       "      <th>maxAuditReputation</th>\n",
       "      <th>...</th>\n",
       "      <th>OCSVM</th>\n",
       "      <th>OCSVM_score</th>\n",
       "      <th>ISOFOREST</th>\n",
       "      <th>ISOFOREST_score</th>\n",
       "      <th>COPOD</th>\n",
       "      <th>COPOD_score</th>\n",
       "      <th>LSCP</th>\n",
       "      <th>LSCPadj</th>\n",
       "      <th>LSCP_score</th>\n",
       "      <th>prob</th>\n",
       "    </tr>\n",
       "  </thead>\n",
       "  <tbody>\n",
       "    <tr>\n",
       "      <th>21</th>\n",
       "      <td>0x5789caf7b28d0e0869769c0e66388cb44747d47c</td>\n",
       "      <td>1b3f384cc2d44f3c9a25f3b7c06de905</td>\n",
       "      <td>0.264431</td>\n",
       "      <td>0.974773</td>\n",
       "      <td>36.242408</td>\n",
       "      <td>3.0</td>\n",
       "      <td>26.0</td>\n",
       "      <td>1.000000</td>\n",
       "      <td>1.000000</td>\n",
       "      <td>1.0</td>\n",
       "      <td>...</td>\n",
       "      <td>1</td>\n",
       "      <td>1.257391</td>\n",
       "      <td>1</td>\n",
       "      <td>0.001907</td>\n",
       "      <td>1</td>\n",
       "      <td>34.672967</td>\n",
       "      <td>1</td>\n",
       "      <td>1</td>\n",
       "      <td>1.934791</td>\n",
       "      <td>0.949834</td>\n",
       "    </tr>\n",
       "    <tr>\n",
       "      <th>22</th>\n",
       "      <td>0x5789caf7b28d0e0869769c0e66388cb44747d47c</td>\n",
       "      <td>87fe37e0b4354f0c89881508b6cbd4fd</td>\n",
       "      <td>0.864061</td>\n",
       "      <td>0.974773</td>\n",
       "      <td>36.242408</td>\n",
       "      <td>3.0</td>\n",
       "      <td>26.0</td>\n",
       "      <td>1.000000</td>\n",
       "      <td>1.000000</td>\n",
       "      <td>1.0</td>\n",
       "      <td>...</td>\n",
       "      <td>1</td>\n",
       "      <td>1.257391</td>\n",
       "      <td>1</td>\n",
       "      <td>0.001907</td>\n",
       "      <td>1</td>\n",
       "      <td>34.672967</td>\n",
       "      <td>1</td>\n",
       "      <td>1</td>\n",
       "      <td>1.934791</td>\n",
       "      <td>0.949834</td>\n",
       "    </tr>\n",
       "    <tr>\n",
       "      <th>23</th>\n",
       "      <td>0x5836d1c3bf3408451d010f0a042e25e987ebd889</td>\n",
       "      <td>c4168ddf68514d409a3a75db6e27ce1c</td>\n",
       "      <td>0.145408</td>\n",
       "      <td>0.959891</td>\n",
       "      <td>60.260527</td>\n",
       "      <td>1.0</td>\n",
       "      <td>38.0</td>\n",
       "      <td>0.573435</td>\n",
       "      <td>0.992657</td>\n",
       "      <td>1.0</td>\n",
       "      <td>...</td>\n",
       "      <td>0</td>\n",
       "      <td>1.001802</td>\n",
       "      <td>1</td>\n",
       "      <td>0.003747</td>\n",
       "      <td>1</td>\n",
       "      <td>34.714239</td>\n",
       "      <td>1</td>\n",
       "      <td>1</td>\n",
       "      <td>1.862019</td>\n",
       "      <td>0.944239</td>\n",
       "    </tr>\n",
       "    <tr>\n",
       "      <th>24</th>\n",
       "      <td>0x5a913899700b70dea2e5017462078a7173126d20</td>\n",
       "      <td>c333525f53db498fb552fdcd165907eb</td>\n",
       "      <td>0.003238</td>\n",
       "      <td>0.982629</td>\n",
       "      <td>12.267274</td>\n",
       "      <td>1.0</td>\n",
       "      <td>24.0</td>\n",
       "      <td>0.961311</td>\n",
       "      <td>0.999463</td>\n",
       "      <td>1.0</td>\n",
       "      <td>...</td>\n",
       "      <td>0</td>\n",
       "      <td>0.151349</td>\n",
       "      <td>1</td>\n",
       "      <td>0.003552</td>\n",
       "      <td>1</td>\n",
       "      <td>35.834687</td>\n",
       "      <td>1</td>\n",
       "      <td>1</td>\n",
       "      <td>1.266331</td>\n",
       "      <td>0.859252</td>\n",
       "    </tr>\n",
       "    <tr>\n",
       "      <th>27</th>\n",
       "      <td>0x74d3a02380785af7d4617562f7ffd5946129c409</td>\n",
       "      <td>35f124922b3c4e23a862e0ed24bc010f</td>\n",
       "      <td>0.505767</td>\n",
       "      <td>0.971104</td>\n",
       "      <td>14.326732</td>\n",
       "      <td>2.0</td>\n",
       "      <td>14.0</td>\n",
       "      <td>0.487179</td>\n",
       "      <td>0.975945</td>\n",
       "      <td>1.0</td>\n",
       "      <td>...</td>\n",
       "      <td>0</td>\n",
       "      <td>0.584833</td>\n",
       "      <td>0</td>\n",
       "      <td>-0.004647</td>\n",
       "      <td>1</td>\n",
       "      <td>33.576193</td>\n",
       "      <td>1</td>\n",
       "      <td>1</td>\n",
       "      <td>1.855156</td>\n",
       "      <td>0.943644</td>\n",
       "    </tr>\n",
       "    <tr>\n",
       "      <th>28</th>\n",
       "      <td>0x74d3a02380785af7d4617562f7ffd5946129c409</td>\n",
       "      <td>88770938a12b43cca220cbc7da4241a1</td>\n",
       "      <td>0.000000</td>\n",
       "      <td>0.971104</td>\n",
       "      <td>14.326732</td>\n",
       "      <td>2.0</td>\n",
       "      <td>14.0</td>\n",
       "      <td>0.487179</td>\n",
       "      <td>0.975945</td>\n",
       "      <td>1.0</td>\n",
       "      <td>...</td>\n",
       "      <td>0</td>\n",
       "      <td>0.584833</td>\n",
       "      <td>0</td>\n",
       "      <td>-0.004647</td>\n",
       "      <td>1</td>\n",
       "      <td>33.576193</td>\n",
       "      <td>1</td>\n",
       "      <td>1</td>\n",
       "      <td>1.855156</td>\n",
       "      <td>0.943644</td>\n",
       "    </tr>\n",
       "    <tr>\n",
       "      <th>29</th>\n",
       "      <td>0x74d3a02380785af7d4617562f7ffd5946129c409</td>\n",
       "      <td>b7888aa2922d4fd2bc484f4f913c5a12</td>\n",
       "      <td>0.701314</td>\n",
       "      <td>0.971104</td>\n",
       "      <td>14.326732</td>\n",
       "      <td>2.0</td>\n",
       "      <td>14.0</td>\n",
       "      <td>0.487179</td>\n",
       "      <td>0.975945</td>\n",
       "      <td>1.0</td>\n",
       "      <td>...</td>\n",
       "      <td>0</td>\n",
       "      <td>0.584833</td>\n",
       "      <td>0</td>\n",
       "      <td>-0.004647</td>\n",
       "      <td>1</td>\n",
       "      <td>33.576193</td>\n",
       "      <td>1</td>\n",
       "      <td>1</td>\n",
       "      <td>1.855156</td>\n",
       "      <td>0.943644</td>\n",
       "    </tr>\n",
       "    <tr>\n",
       "      <th>30</th>\n",
       "      <td>0x757898f2e297fd512dd647f3da9c8ab8adc6a382</td>\n",
       "      <td>386157c051b04293b315d64806192537</td>\n",
       "      <td>0.138457</td>\n",
       "      <td>0.989926</td>\n",
       "      <td>14.991272</td>\n",
       "      <td>2.0</td>\n",
       "      <td>67.0</td>\n",
       "      <td>0.487179</td>\n",
       "      <td>0.965158</td>\n",
       "      <td>1.0</td>\n",
       "      <td>...</td>\n",
       "      <td>1</td>\n",
       "      <td>1.159546</td>\n",
       "      <td>1</td>\n",
       "      <td>0.035004</td>\n",
       "      <td>1</td>\n",
       "      <td>36.776901</td>\n",
       "      <td>1</td>\n",
       "      <td>1</td>\n",
       "      <td>2.472369</td>\n",
       "      <td>0.972386</td>\n",
       "    </tr>\n",
       "    <tr>\n",
       "      <th>34</th>\n",
       "      <td>0x87b27781ce30ed5ff690e88eaedf3991277f4136</td>\n",
       "      <td>056b7737d5564f1aa3d72da3eba26ae2</td>\n",
       "      <td>0.530069</td>\n",
       "      <td>0.989704</td>\n",
       "      <td>13.277643</td>\n",
       "      <td>2.0</td>\n",
       "      <td>8.0</td>\n",
       "      <td>0.598737</td>\n",
       "      <td>0.949810</td>\n",
       "      <td>1.0</td>\n",
       "      <td>...</td>\n",
       "      <td>0</td>\n",
       "      <td>0.607877</td>\n",
       "      <td>1</td>\n",
       "      <td>0.018133</td>\n",
       "      <td>1</td>\n",
       "      <td>37.203651</td>\n",
       "      <td>1</td>\n",
       "      <td>1</td>\n",
       "      <td>2.602042</td>\n",
       "      <td>0.977590</td>\n",
       "    </tr>\n",
       "    <tr>\n",
       "      <th>35</th>\n",
       "      <td>0x8b51c0ecf0381c41e1b299ebfafa352997983741</td>\n",
       "      <td>560ce3b63f0248c38038a7729bc5fa4f</td>\n",
       "      <td>0.547578</td>\n",
       "      <td>0.960437</td>\n",
       "      <td>13.602709</td>\n",
       "      <td>1.0</td>\n",
       "      <td>25.0</td>\n",
       "      <td>0.598737</td>\n",
       "      <td>0.969262</td>\n",
       "      <td>1.0</td>\n",
       "      <td>...</td>\n",
       "      <td>1</td>\n",
       "      <td>1.119761</td>\n",
       "      <td>1</td>\n",
       "      <td>0.015155</td>\n",
       "      <td>0</td>\n",
       "      <td>31.377340</td>\n",
       "      <td>1</td>\n",
       "      <td>1</td>\n",
       "      <td>1.883920</td>\n",
       "      <td>0.946056</td>\n",
       "    </tr>\n",
       "    <tr>\n",
       "      <th>57</th>\n",
       "      <td>0xdeff8879747437fc21b38f44bbd3c8ba784bf7f9</td>\n",
       "      <td>e42297e0a24546d9a1c822ddecd10230</td>\n",
       "      <td>0.134600</td>\n",
       "      <td>0.994828</td>\n",
       "      <td>156.733683</td>\n",
       "      <td>1.0</td>\n",
       "      <td>72.0</td>\n",
       "      <td>0.570269</td>\n",
       "      <td>0.975839</td>\n",
       "      <td>1.0</td>\n",
       "      <td>...</td>\n",
       "      <td>1</td>\n",
       "      <td>1.741657</td>\n",
       "      <td>1</td>\n",
       "      <td>0.009879</td>\n",
       "      <td>1</td>\n",
       "      <td>39.554209</td>\n",
       "      <td>1</td>\n",
       "      <td>1</td>\n",
       "      <td>2.564315</td>\n",
       "      <td>0.975879</td>\n",
       "    </tr>\n",
       "    <tr>\n",
       "      <th>62</th>\n",
       "      <td>0xeb1a1d283ea74877a6175c6175f9914cde53eb08</td>\n",
       "      <td>c60a284965da4d458fa8dfe3dbc30ded</td>\n",
       "      <td>0.065010</td>\n",
       "      <td>0.990491</td>\n",
       "      <td>25.603118</td>\n",
       "      <td>1.0</td>\n",
       "      <td>21.0</td>\n",
       "      <td>0.487179</td>\n",
       "      <td>0.981323</td>\n",
       "      <td>1.0</td>\n",
       "      <td>...</td>\n",
       "      <td>1</td>\n",
       "      <td>1.541077</td>\n",
       "      <td>1</td>\n",
       "      <td>0.024603</td>\n",
       "      <td>1</td>\n",
       "      <td>37.566923</td>\n",
       "      <td>1</td>\n",
       "      <td>1</td>\n",
       "      <td>2.409330</td>\n",
       "      <td>0.970434</td>\n",
       "    </tr>\n",
       "  </tbody>\n",
       "</table>\n",
       "<p>12 rows × 72 columns</p>\n",
       "</div>"
      ],
      "text/plain": [
       "                                        wallet  \\\n",
       "21  0x5789caf7b28d0e0869769c0e66388cb44747d47c   \n",
       "22  0x5789caf7b28d0e0869769c0e66388cb44747d47c   \n",
       "23  0x5836d1c3bf3408451d010f0a042e25e987ebd889   \n",
       "24  0x5a913899700b70dea2e5017462078a7173126d20   \n",
       "27  0x74d3a02380785af7d4617562f7ffd5946129c409   \n",
       "28  0x74d3a02380785af7d4617562f7ffd5946129c409   \n",
       "29  0x74d3a02380785af7d4617562f7ffd5946129c409   \n",
       "30  0x757898f2e297fd512dd647f3da9c8ab8adc6a382   \n",
       "34  0x87b27781ce30ed5ff690e88eaedf3991277f4136   \n",
       "35  0x8b51c0ecf0381c41e1b299ebfafa352997983741   \n",
       "57  0xdeff8879747437fc21b38f44bbd3c8ba784bf7f9   \n",
       "62  0xeb1a1d283ea74877a6175c6175f9914cde53eb08   \n",
       "\n",
       "                             user_id  maxUserCheatingProb  \\\n",
       "21  1b3f384cc2d44f3c9a25f3b7c06de905             0.264431   \n",
       "22  87fe37e0b4354f0c89881508b6cbd4fd             0.864061   \n",
       "23  c4168ddf68514d409a3a75db6e27ce1c             0.145408   \n",
       "24  c333525f53db498fb552fdcd165907eb             0.003238   \n",
       "27  35f124922b3c4e23a862e0ed24bc010f             0.505767   \n",
       "28  88770938a12b43cca220cbc7da4241a1             0.000000   \n",
       "29  b7888aa2922d4fd2bc484f4f913c5a12             0.701314   \n",
       "30  386157c051b04293b315d64806192537             0.138457   \n",
       "34  056b7737d5564f1aa3d72da3eba26ae2             0.530069   \n",
       "35  560ce3b63f0248c38038a7729bc5fa4f             0.547578   \n",
       "57  e42297e0a24546d9a1c822ddecd10230             0.134600   \n",
       "62  c60a284965da4d458fa8dfe3dbc30ded             0.065010   \n",
       "\n",
       "    operatorCheatingProb  avgMonthPay_x  numOperatorWallets  unique_nodes  \\\n",
       "21              0.974773      36.242408                 3.0          26.0   \n",
       "22              0.974773      36.242408                 3.0          26.0   \n",
       "23              0.959891      60.260527                 1.0          38.0   \n",
       "24              0.982629      12.267274                 1.0          24.0   \n",
       "27              0.971104      14.326732                 2.0          14.0   \n",
       "28              0.971104      14.326732                 2.0          14.0   \n",
       "29              0.971104      14.326732                 2.0          14.0   \n",
       "30              0.989926      14.991272                 2.0          67.0   \n",
       "34              0.989704      13.277643                 2.0           8.0   \n",
       "35              0.960437      13.602709                 1.0          25.0   \n",
       "57              0.994828     156.733683                 1.0          72.0   \n",
       "62              0.990491      25.603118                 1.0          21.0   \n",
       "\n",
       "    minAuditReputation  avgAuditReputation  maxAuditReputation  ...  OCSVM  \\\n",
       "21            1.000000            1.000000                 1.0  ...      1   \n",
       "22            1.000000            1.000000                 1.0  ...      1   \n",
       "23            0.573435            0.992657                 1.0  ...      0   \n",
       "24            0.961311            0.999463                 1.0  ...      0   \n",
       "27            0.487179            0.975945                 1.0  ...      0   \n",
       "28            0.487179            0.975945                 1.0  ...      0   \n",
       "29            0.487179            0.975945                 1.0  ...      0   \n",
       "30            0.487179            0.965158                 1.0  ...      1   \n",
       "34            0.598737            0.949810                 1.0  ...      0   \n",
       "35            0.598737            0.969262                 1.0  ...      1   \n",
       "57            0.570269            0.975839                 1.0  ...      1   \n",
       "62            0.487179            0.981323                 1.0  ...      1   \n",
       "\n",
       "    OCSVM_score  ISOFOREST  ISOFOREST_score  COPOD  COPOD_score LSCP LSCPadj  \\\n",
       "21     1.257391          1         0.001907      1    34.672967    1       1   \n",
       "22     1.257391          1         0.001907      1    34.672967    1       1   \n",
       "23     1.001802          1         0.003747      1    34.714239    1       1   \n",
       "24     0.151349          1         0.003552      1    35.834687    1       1   \n",
       "27     0.584833          0        -0.004647      1    33.576193    1       1   \n",
       "28     0.584833          0        -0.004647      1    33.576193    1       1   \n",
       "29     0.584833          0        -0.004647      1    33.576193    1       1   \n",
       "30     1.159546          1         0.035004      1    36.776901    1       1   \n",
       "34     0.607877          1         0.018133      1    37.203651    1       1   \n",
       "35     1.119761          1         0.015155      0    31.377340    1       1   \n",
       "57     1.741657          1         0.009879      1    39.554209    1       1   \n",
       "62     1.541077          1         0.024603      1    37.566923    1       1   \n",
       "\n",
       "   LSCP_score      prob  \n",
       "21   1.934791  0.949834  \n",
       "22   1.934791  0.949834  \n",
       "23   1.862019  0.944239  \n",
       "24   1.266331  0.859252  \n",
       "27   1.855156  0.943644  \n",
       "28   1.855156  0.943644  \n",
       "29   1.855156  0.943644  \n",
       "30   2.472369  0.972386  \n",
       "34   2.602042  0.977590  \n",
       "35   1.883920  0.946056  \n",
       "57   2.564315  0.975879  \n",
       "62   2.409330  0.970434  \n",
       "\n",
       "[12 rows x 72 columns]"
      ]
     },
     "execution_count": 171,
     "metadata": {},
     "output_type": "execute_result"
    }
   ],
   "source": [
    "finalView.merge(cand65, left_on='wallet',right_on='wallet',how='right').dropna()"
   ]
  },
  {
   "cell_type": "code",
   "execution_count": null,
   "metadata": {},
   "outputs": [],
   "source": []
  }
 ],
 "metadata": {
  "kernelspec": {
   "display_name": "Python 3",
   "language": "python",
   "name": "python3"
  },
  "language_info": {
   "codemirror_mode": {
    "name": "ipython",
    "version": 3
   },
   "file_extension": ".py",
   "mimetype": "text/x-python",
   "name": "python",
   "nbconvert_exporter": "python",
   "pygments_lexer": "ipython3",
   "version": "3.7.7"
  }
 },
 "nbformat": 4,
 "nbformat_minor": 4
}
